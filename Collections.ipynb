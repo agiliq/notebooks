{
 "cells": [
  {
   "cell_type": "markdown",
   "metadata": {},
   "source": [
    "### Doing things with python collections\n",
    "\n",
    "The builting `dict`, `set` and `list` along with `collections` provide some useful utilities for transofrming your data. We will do some common operations here.\n",
    "\n",
    "* create dict from two iterables\n",
    "* remove duplicates from list\n",
    "* Most common in iterable\n",
    "* Least common in iterable\n",
    "* Counts in iterable\n",
    "* remove duplicates from list while maintaining insertion order\n",
    "* sort dictionary by items\n",
    "* sort dictionary by values\n",
    "* group dictionary by keys\n"
   ]
  },
  {
   "cell_type": "markdown",
   "metadata": {},
   "source": [
    "The builtin dict makes no guarantees about the order of keys. If you want to keep the order of keys, use `ordereddict`"
   ]
  },
  {
   "cell_type": "code",
   "execution_count": 4,
   "metadata": {
    "collapsed": false
   },
   "outputs": [
    {
     "name": "stdout",
     "output_type": "stream",
     "text": [
      "OrderedDict([('a', 1), ('b', 2)])\n",
      "1\n"
     ]
    }
   ],
   "source": [
    "from collections import OrderedDict\n",
    "od = OrderedDict(a=1, b=2)\n",
    "print od\n",
    "print od[\"a\"]"
   ]
  },
  {
   "cell_type": "markdown",
   "metadata": {},
   "source": [
    "remove duppicates from list"
   ]
  },
  {
   "cell_type": "code",
   "execution_count": 9,
   "metadata": {
    "collapsed": false
   },
   "outputs": [
    {
     "data": {
      "text/plain": [
       "[1, 2, 3, 5]"
      ]
     },
     "execution_count": 9,
     "metadata": {},
     "output_type": "execute_result"
    }
   ],
   "source": [
    "list(set([1, 5, 2, 3, 3, 1, 5]))"
   ]
  },
  {
   "cell_type": "markdown",
   "metadata": {},
   "source": [
    "remove duplicates from list while maintaining insertion order"
   ]
  },
  {
   "cell_type": "code",
   "execution_count": 10,
   "metadata": {
    "collapsed": false
   },
   "outputs": [
    {
     "data": {
      "text/plain": [
       "[1, 5, 2, 3]"
      ]
     },
     "execution_count": 10,
     "metadata": {},
     "output_type": "execute_result"
    }
   ],
   "source": [
    "list(OrderedDict.fromkeys([1, 5, 2, 3, 3, 1, 5]))"
   ]
  },
  {
   "cell_type": "code",
   "execution_count": null,
   "metadata": {
    "collapsed": true
   },
   "outputs": [],
   "source": []
  },
  {
   "cell_type": "markdown",
   "metadata": {},
   "source": [
    "create dict from two iterables   \n",
    "For example for a substitution cipher, you want numeric representation of letters"
   ]
  },
  {
   "cell_type": "code",
   "execution_count": 7,
   "metadata": {
    "collapsed": false
   },
   "outputs": [
    {
     "name": "stdout",
     "output_type": "stream",
     "text": [
      "OrderedDict([('a', 0), ('b', 1), ('c', 2), ('d', 3), ('e', 4), ('f', 5), ('g', 6), ('h', 7), ('i', 8), ('j', 9), ('k', 10), ('l', 11), ('m', 12), ('n', 13), ('o', 14), ('p', 15), ('q', 16), ('r', 17), ('s', 18), ('t', 19), ('u', 20), ('v', 21), ('w', 22), ('x', 23), ('y', 24), ('z', 25)])\n",
      "25\n"
     ]
    }
   ],
   "source": [
    "import string\n",
    "letters = zip(string.lowercase, range(len(string.lowercase)))\n",
    "lettersdict = OrderedDict(letters)\n",
    "print lettersdict\n",
    "print lettersdict[\"z\"]"
   ]
  },
  {
   "cell_type": "markdown",
   "metadata": {},
   "source": [
    "---\n",
    "`Counter` can be used to find out occurances of values in an iterable.\n",
    "* Most common in iterable\n",
    "* Least common in iterable\n",
    "* Counts in iterable"
   ]
  },
  {
   "cell_type": "code",
   "execution_count": 14,
   "metadata": {
    "collapsed": false
   },
   "outputs": [
    {
     "name": "stdout",
     "output_type": "stream",
     "text": [
      "Most Common: 20 with 17 occurances\n",
      "Least Common: 75 with 2 occurances\n"
     ]
    }
   ],
   "source": [
    "from collections import Counter\n",
    "import random\n",
    "list_of_ints = [random.randint(0, 100) for _ in range(1000)]\n",
    "counts = Counter(list_of_ints)\n",
    "print \"Most Common: {} with {} occurances\".format(*counts.most_common(1)[0])\n",
    "print \"Least Common: {} with {} occurances\".format(*counts.most_common(len(list_of_ints))[-1])"
   ]
  },
  {
   "cell_type": "markdown",
   "metadata": {},
   "source": [
    "What is the count of any elemnet in an iterable"
   ]
  },
  {
   "cell_type": "code",
   "execution_count": 16,
   "metadata": {
    "collapsed": false
   },
   "outputs": [
    {
     "name": "stdout",
     "output_type": "stream",
     "text": [
      "count of 1: 3\n",
      "count of 100: 0\n"
     ]
    }
   ],
   "source": [
    "counts = Counter([1, 1, 2, 3, 5, 5, 5, 1, 2])\n",
    "print \"count of 1: {}\".format(counts[1])\n",
    "print \"count of 100: {}\".format(counts[100])"
   ]
  },
  {
   "cell_type": "markdown",
   "metadata": {},
   "source": [
    "Using OrderedDict you can\n",
    "\n",
    "* sort dictionary by items\n",
    "* sort dictionary by values\n",
    "\n",
    "They are useful if you later want to get the `.items` out in sorted order."
   ]
  },
  {
   "cell_type": "code",
   "execution_count": 17,
   "metadata": {
    "collapsed": false
   },
   "outputs": [
    {
     "ename": "NameError",
     "evalue": "name 'data' is not defined",
     "output_type": "error",
     "traceback": [
      "\u001b[0;31m---------------------------------------------------------------------------\u001b[0m",
      "\u001b[0;31mNameError\u001b[0m                                 Traceback (most recent call last)",
      "\u001b[0;32m<ipython-input-17-6137cde4893c>\u001b[0m in \u001b[0;36m<module>\u001b[0;34m()\u001b[0m\n\u001b[0;32m----> 1\u001b[0;31m \u001b[0mdata\u001b[0m\u001b[0;34m\u001b[0m\u001b[0m\n\u001b[0m",
      "\u001b[0;31mNameError\u001b[0m: name 'data' is not defined"
     ]
    }
   ],
   "source": [
    "data"
   ]
  },
  {
   "cell_type": "code",
   "execution_count": 21,
   "metadata": {
    "collapsed": false
   },
   "outputs": [
    {
     "name": "stdout",
     "output_type": "stream",
     "text": [
      "OrderedDict([('a', 71), ('b', 33), ('c', 87), ('d', 58), ('e', 75), ('f', 16), ('g', 81), ('h', 48), ('i', 83), ('j', 1), ('k', 5), ('l', 12), ('m', 72), ('n', 13), ('o', 85), ('p', 58), ('q', 12), ('r', 8), ('s', 46), ('t', 28), ('u', 34), ('v', 44), ('w', 82), ('x', 56), ('y', 38), ('z', 86)])\n"
     ]
    }
   ],
   "source": [
    "letters = zip(string.lowercase, [random.randint(0, 100) for _ in range(len(string.lowercase))])\n",
    "sorted_by_key = OrderedDict(sorted(letters, key=lambda t: t[0]))\n",
    "print sorted_by_key"
   ]
  },
  {
   "cell_type": "code",
   "execution_count": 23,
   "metadata": {
    "collapsed": false
   },
   "outputs": [
    {
     "name": "stdout",
     "output_type": "stream",
     "text": [
      "OrderedDict([('j', 1), ('k', 5), ('r', 8), ('l', 12), ('q', 12), ('n', 13), ('f', 16), ('t', 28), ('b', 33), ('u', 34), ('y', 38), ('v', 44), ('s', 46), ('h', 48), ('x', 56), ('d', 58), ('p', 58), ('a', 71), ('m', 72), ('e', 75), ('g', 81), ('w', 82), ('i', 83), ('o', 85), ('z', 86), ('c', 87)])\n"
     ]
    }
   ],
   "source": [
    "sorted_by_value = OrderedDict(sorted(letters, key=lambda t: t[1]))\n",
    "print sorted_by_value"
   ]
  },
  {
   "cell_type": "markdown",
   "metadata": {},
   "source": [
    "group dictionary by keys"
   ]
  },
  {
   "cell_type": "code",
   "execution_count": 29,
   "metadata": {
    "collapsed": false
   },
   "outputs": [
    {
     "name": "stdout",
     "output_type": "stream",
     "text": [
      "defaultdict(<type 'list'>, {'Nolan': ['Memento', 'Inception'], 'James Cameron': ['Avatar'], 'Satyajit Ray': ['pather panchali', 'Devi']})\n"
     ]
    }
   ],
   "source": [
    "from collections import defaultdict\n",
    "dict_with_lists = defaultdict(list)\n",
    "movies = ((\"Nolan\", \"Memento\"), (\"Nolan\", \"Inception\"), \n",
    "          (\"James Cameron\", \"Avatar\"), (\"Satyajit Ray\", \"pather panchali\"),\n",
    "         (\"Satyajit Ray\", \"Devi\"),)\n",
    "for k, v in movies:\n",
    "    dict_with_lists[k].append(v)\n",
    "print dict_with_lists\n"
   ]
  }
 ],
 "metadata": {
  "kernelspec": {
   "display_name": "Python 2",
   "language": "python",
   "name": "python2"
  },
  "language_info": {
   "codemirror_mode": {
    "name": "ipython",
    "version": 2
   },
   "file_extension": ".py",
   "mimetype": "text/x-python",
   "name": "python",
   "nbconvert_exporter": "python",
   "pygments_lexer": "ipython2",
   "version": "2.7.6"
  }
 },
 "nbformat": 4,
 "nbformat_minor": 0
}
