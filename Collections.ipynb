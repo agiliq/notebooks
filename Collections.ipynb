{
 "cells": [
  {
   "cell_type": "markdown",
   "metadata": {},
   "source": [
    "### Doing things with python collections\n",
    "\n",
    "The builtin `dict`, `set` and `list` along with `collections` provide some useful utilities for transforming your data. We will do some common operations here.\n",
    "\n",
    "* create dict from two iterables\n",
    "* remove duplicates from list\n",
    "* Most common in iterable\n",
    "* Least common in iterable\n",
    "* Counts in iterable\n",
    "* remove duplicates from list while maintaining insertion order\n",
    "* sort dictionary by items\n",
    "* sort dictionary by values\n",
    "* group dictionary by keys\n"
   ]
  },
  {
   "cell_type": "markdown",
   "metadata": {},
   "source": [
    "The builtin dict makes no guarantees about the order of keys. If you want to keep the order of keys, use `ordereddict`"
   ]
  },
  {
   "cell_type": "code",
   "execution_count": 1,
   "metadata": {
    "collapsed": false
   },
   "outputs": [
    {
     "name": "stdout",
     "output_type": "stream",
     "text": [
      "OrderedDict([('a', 1), ('b', 2)])\n",
      "1\n"
     ]
    }
   ],
   "source": [
    "from collections import OrderedDict\n",
    "od = OrderedDict()\n",
    "od.update({\"a\": 1})\n",
    "od.update({\"b\": 2})\n",
    "print od\n",
    "print od[\"a\"]"
   ]
  },
  {
   "cell_type": "markdown",
   "metadata": {},
   "source": [
    "remove duplicates from list"
   ]
  },
  {
   "cell_type": "code",
   "execution_count": 2,
   "metadata": {
    "collapsed": false
   },
   "outputs": [
    {
     "data": {
      "text/plain": [
       "[1, 2, 3, 5]"
      ]
     },
     "execution_count": 2,
     "metadata": {},
     "output_type": "execute_result"
    }
   ],
   "source": [
    "list(set([1, 5, 2, 3, 3, 1, 5]))"
   ]
  },
  {
   "cell_type": "markdown",
   "metadata": {},
   "source": [
    "remove duplicates from list while maintaining insertion order"
   ]
  },
  {
   "cell_type": "code",
   "execution_count": 3,
   "metadata": {
    "collapsed": false
   },
   "outputs": [
    {
     "data": {
      "text/plain": [
       "[1, 5, 2, 3]"
      ]
     },
     "execution_count": 3,
     "metadata": {},
     "output_type": "execute_result"
    }
   ],
   "source": [
    "list(OrderedDict.fromkeys([1, 5, 2, 3, 3, 1, 5]))"
   ]
  },
  {
   "cell_type": "code",
   "execution_count": null,
   "metadata": {
    "collapsed": true
   },
   "outputs": [],
   "source": []
  },
  {
   "cell_type": "markdown",
   "metadata": {},
   "source": [
    "create dict from two iterables   \n",
    "For example for a substitution cipher, you want numeric representation of letters"
   ]
  },
  {
   "cell_type": "code",
   "execution_count": 4,
   "metadata": {
    "collapsed": false
   },
   "outputs": [
    {
     "name": "stdout",
     "output_type": "stream",
     "text": [
      "OrderedDict([('a', 0), ('b', 1), ('c', 2), ('d', 3), ('e', 4), ('f', 5), ('g', 6), ('h', 7), ('i', 8), ('j', 9), ('k', 10), ('l', 11), ('m', 12), ('n', 13), ('o', 14), ('p', 15), ('q', 16), ('r', 17), ('s', 18), ('t', 19), ('u', 20), ('v', 21), ('w', 22), ('x', 23), ('y', 24), ('z', 25)])\n",
      "25\n"
     ]
    }
   ],
   "source": [
    "import string\n",
    "letters = zip(string.lowercase, range(len(string.lowercase)))\n",
    "lettersdict = OrderedDict(letters)\n",
    "print lettersdict\n",
    "print lettersdict[\"z\"]"
   ]
  },
  {
   "cell_type": "markdown",
   "metadata": {},
   "source": [
    "---\n",
    "`Counter` can be used to find out occurances of values in an iterable.\n",
    "* Most common in iterable\n",
    "* Least common in iterable\n",
    "* Counts in iterable"
   ]
  },
  {
   "cell_type": "code",
   "execution_count": 5,
   "metadata": {
    "collapsed": false
   },
   "outputs": [
    {
     "name": "stdout",
     "output_type": "stream",
     "text": [
      "Most Common: 61 with 23 occurances\n",
      "Least Common: 68 with 3 occurances\n"
     ]
    }
   ],
   "source": [
    "from collections import Counter\n",
    "import random\n",
    "list_of_ints = [random.randint(0, 100) for _ in range(1000)]\n",
    "counts = Counter(list_of_ints)\n",
    "print \"Most Common: {} with {} occurances\".format(*counts.most_common(1)[0])\n",
    "print \"Least Common: {} with {} occurances\".format(*counts.most_common(len(list_of_ints))[-1])"
   ]
  },
  {
   "cell_type": "markdown",
   "metadata": {},
   "source": [
    "What is the count of any element in an iterable"
   ]
  },
  {
   "cell_type": "code",
   "execution_count": 6,
   "metadata": {
    "collapsed": false
   },
   "outputs": [
    {
     "name": "stdout",
     "output_type": "stream",
     "text": [
      "count of 1: 3\n",
      "count of 100: 0\n"
     ]
    }
   ],
   "source": [
    "counts = Counter([1, 1, 2, 3, 5, 5, 5, 1, 2])\n",
    "print \"count of 1: {}\".format(counts[1])\n",
    "print \"count of 100: {}\".format(counts[100])"
   ]
  },
  {
   "cell_type": "markdown",
   "metadata": {},
   "source": [
    "Using OrderedDict you can\n",
    "\n",
    "* sort dictionary by items\n",
    "* sort dictionary by values\n",
    "\n",
    "They are useful if you later want to get the `.items` out in sorted order."
   ]
  },
  {
   "cell_type": "code",
   "execution_count": 7,
   "metadata": {
    "collapsed": false
   },
   "outputs": [
    {
     "name": "stdout",
     "output_type": "stream",
     "text": [
      "OrderedDict([('a', 74), ('b', 95), ('c', 61), ('d', 91), ('e', 33), ('f', 96), ('g', 18), ('h', 52), ('i', 63), ('j', 70), ('k', 83), ('l', 90), ('m', 63), ('n', 90), ('o', 52), ('p', 96), ('q', 27), ('r', 33), ('s', 79), ('t', 67), ('u', 34), ('v', 51), ('w', 98), ('x', 82), ('y', 65), ('z', 99)])\n"
     ]
    }
   ],
   "source": [
    "letters = zip(string.lowercase, [random.randint(0, 100) for _ in range(len(string.lowercase))])\n",
    "sorted_by_key = OrderedDict(sorted(letters, key=lambda t: t[0]))\n",
    "print sorted_by_key"
   ]
  },
  {
   "cell_type": "code",
   "execution_count": 8,
   "metadata": {
    "collapsed": false
   },
   "outputs": [
    {
     "name": "stdout",
     "output_type": "stream",
     "text": [
      "OrderedDict([('g', 18), ('q', 27), ('e', 33), ('r', 33), ('u', 34), ('v', 51), ('h', 52), ('o', 52), ('c', 61), ('i', 63), ('m', 63), ('y', 65), ('t', 67), ('j', 70), ('a', 74), ('s', 79), ('x', 82), ('k', 83), ('l', 90), ('n', 90), ('d', 91), ('b', 95), ('f', 96), ('p', 96), ('w', 98), ('z', 99)])\n"
     ]
    }
   ],
   "source": [
    "sorted_by_value = OrderedDict(sorted(letters, key=lambda t: t[1]))\n",
    "print sorted_by_value"
   ]
  },
  {
   "cell_type": "markdown",
   "metadata": {},
   "source": [
    "group dictionary by keys"
   ]
  },
  {
   "cell_type": "code",
   "execution_count": 9,
   "metadata": {
    "collapsed": false
   },
   "outputs": [
    {
     "name": "stdout",
     "output_type": "stream",
     "text": [
      "defaultdict(<type 'list'>, {'Nolan': ['Memento', 'Inception'], 'James Cameron': ['Avatar'], 'Satyajit Ray': ['pather panchali', 'Devi']})\n"
     ]
    }
   ],
   "source": [
    "from collections import defaultdict\n",
    "dict_with_lists = defaultdict(list)\n",
    "movies = ((\"Nolan\", \"Memento\"), (\"Nolan\", \"Inception\"), \n",
    "          (\"James Cameron\", \"Avatar\"), (\"Satyajit Ray\", \"pather panchali\"),\n",
    "         (\"Satyajit Ray\", \"Devi\"),)\n",
    "for k, v in movies:\n",
    "    dict_with_lists[k].append(v)\n",
    "print dict_with_lists\n"
   ]
  }
 ],
 "metadata": {
  "kernelspec": {
   "display_name": "Python 2",
   "language": "python",
   "name": "python2"
  },
  "language_info": {
   "codemirror_mode": {
    "name": "ipython",
    "version": 2
   },
   "file_extension": ".py",
   "mimetype": "text/x-python",
   "name": "python",
   "nbconvert_exporter": "python",
   "pygments_lexer": "ipython2",
   "version": "2.7.10"
  }
 },
 "nbformat": 4,
 "nbformat_minor": 0
}
