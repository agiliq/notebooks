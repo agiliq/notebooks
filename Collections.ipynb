{
 "cells": [
  {
   "cell_type": "markdown",
   "metadata": {},
   "source": [
    "* create dict from two iterables\n",
    "* remove duplicates from list\n",
    "* Most common in iterable\n",
    "* Least common in iterable\n",
    "* Counts in iterable\n",
    "* remove duplicates from list while maintaining insertion order\n",
    "* sort dictionary by items\n",
    "* sort dictionary by values\n",
    "* simplify lookup with namedtuples\n"
   ]
  },
  {
   "cell_type": "markdown",
   "metadata": {},
   "source": [
    "The builtin dict makes no guarantees about the order of keys. If you want to keep the order of keys, use `ordereddict`"
   ]
  },
  {
   "cell_type": "code",
   "execution_count": 4,
   "metadata": {
    "collapsed": false
   },
   "outputs": [
    {
     "name": "stdout",
     "output_type": "stream",
     "text": [
      "OrderedDict([('a', 1), ('b', 2)])\n",
      "1\n"
     ]
    }
   ],
   "source": [
    "from collections import OrderedDict\n",
    "od = OrderedDict(a=1, b=2)\n",
    "print od\n",
    "print od[\"a\"]"
   ]
  },
  {
   "cell_type": "markdown",
   "metadata": {},
   "source": [
    "remove duppicates from list"
   ]
  },
  {
   "cell_type": "code",
   "execution_count": 9,
   "metadata": {
    "collapsed": false
   },
   "outputs": [
    {
     "data": {
      "text/plain": [
       "[1, 2, 3, 5]"
      ]
     },
     "execution_count": 9,
     "metadata": {},
     "output_type": "execute_result"
    }
   ],
   "source": [
    "list(set([1, 5, 2, 3, 3, 1, 5]))"
   ]
  },
  {
   "cell_type": "markdown",
   "metadata": {},
   "source": [
    "remove duplicates from list while maintaining insertion order"
   ]
  },
  {
   "cell_type": "code",
   "execution_count": 10,
   "metadata": {
    "collapsed": false
   },
   "outputs": [
    {
     "data": {
      "text/plain": [
       "[1, 5, 2, 3]"
      ]
     },
     "execution_count": 10,
     "metadata": {},
     "output_type": "execute_result"
    }
   ],
   "source": [
    "list(OrderedDict.fromkeys([1, 5, 2, 3, 3, 1, 5]))"
   ]
  },
  {
   "cell_type": "code",
   "execution_count": null,
   "metadata": {
    "collapsed": true
   },
   "outputs": [],
   "source": []
  },
  {
   "cell_type": "markdown",
   "metadata": {},
   "source": [
    "create dict from two iterables   \n",
    "For example for a substitution cipher, you want numeric representation of letters"
   ]
  },
  {
   "cell_type": "code",
   "execution_count": 7,
   "metadata": {
    "collapsed": false
   },
   "outputs": [
    {
     "name": "stdout",
     "output_type": "stream",
     "text": [
      "OrderedDict([('a', 0), ('b', 1), ('c', 2), ('d', 3), ('e', 4), ('f', 5), ('g', 6), ('h', 7), ('i', 8), ('j', 9), ('k', 10), ('l', 11), ('m', 12), ('n', 13), ('o', 14), ('p', 15), ('q', 16), ('r', 17), ('s', 18), ('t', 19), ('u', 20), ('v', 21), ('w', 22), ('x', 23), ('y', 24), ('z', 25)])\n",
      "25\n"
     ]
    }
   ],
   "source": [
    "import string\n",
    "letters = zip(string.lowercase, range(len(string.lowercase)))\n",
    "lettersdict = OrderedDict(letters)\n",
    "print lettersdict\n",
    "print lettersdict[\"z\"]"
   ]
  },
  {
   "cell_type": "markdown",
   "metadata": {},
   "source": [
    "---\n",
    "`Counter` can be used to find out occurances of values in an iterable.\n",
    "* Most common in iterable\n",
    "* Least common in iterable\n",
    "* Counts in iterable"
   ]
  },
  {
   "cell_type": "code",
   "execution_count": 14,
   "metadata": {
    "collapsed": false
   },
   "outputs": [
    {
     "name": "stdout",
     "output_type": "stream",
     "text": [
      "Most Common: 20 with 17 occurances\n",
      "Least Common: 75 with 2 occurances\n"
     ]
    }
   ],
   "source": [
    "from collections import Counter\n",
    "import random\n",
    "list_of_ints = [random.randint(0, 100) for _ in range(1000)]\n",
    "counts = Counter(list_of_ints)\n",
    "print \"Most Common: {} with {} occurances\".format(*counts.most_common(1)[0])\n",
    "print \"Least Common: {} with {} occurances\".format(*counts.most_common(len(list_of_ints))[-1])"
   ]
  },
  {
   "cell_type": "markdown",
   "metadata": {},
   "source": [
    "What is the count of any elemnet in an iterable"
   ]
  },
  {
   "cell_type": "code",
   "execution_count": 16,
   "metadata": {
    "collapsed": false
   },
   "outputs": [
    {
     "name": "stdout",
     "output_type": "stream",
     "text": [
      "count of 1: 3\n",
      "count of 100: 0\n"
     ]
    }
   ],
   "source": [
    "counts = Counter([1, 1, 2, 3, 5, 5, 5, 1, 2])\n",
    "print \"count of 1: {}\".format(counts[1])\n",
    "print \"count of 100: {}\".format(counts[100])"
   ]
  },
  {
   "cell_type": "code",
   "execution_count": null,
   "metadata": {
    "collapsed": true
   },
   "outputs": [],
   "source": []
  }
 ],
 "metadata": {
  "kernelspec": {
   "display_name": "Python 2",
   "language": "python",
   "name": "python2"
  },
  "language_info": {
   "codemirror_mode": {
    "name": "ipython",
    "version": 2
   },
   "file_extension": ".py",
   "mimetype": "text/x-python",
   "name": "python",
   "nbconvert_exporter": "python",
   "pygments_lexer": "ipython2",
   "version": "2.7.6"
  }
 },
 "nbformat": 4,
 "nbformat_minor": 0
}
