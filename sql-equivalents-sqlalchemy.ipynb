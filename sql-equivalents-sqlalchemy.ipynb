{
 "cells": [
  {
   "cell_type": "markdown",
   "metadata": {},
   "source": [
    "This tutorial will teach you how to convert sql queries to sqlalchemy statements. \n",
    "This repo has a `buildings.db` with two tables. `Buildings` and `Continents`.\n",
    "\n",
    "The data is from wikipedia. [list of tallest building](https://en.wikipedia.org/wiki/List_of_tallest_buildings_in_the_world).\n",
    "\n",
    "We will show a sql statement, and then a sqlalchemy expression to get the same result. The sql statement can be used with the buildings.db. The required libraries can be installed with `pip install -r requirements.txt`\n",
    "\n",
    "Let's start by getting the name of the first building."
   ]
  },
  {
   "cell_type": "code",
   "execution_count": 1,
   "metadata": {
    "collapsed": false
   },
   "outputs": [
    {
     "data": {
      "text/plain": [
       "[(u'Burj Khalifa')]"
      ]
     },
     "execution_count": 1,
     "metadata": {},
     "output_type": "execute_result"
    }
   ],
   "source": [
    "import sqlalchemy\n",
    "from sqlalchemy.orm import scoped_session, sessionmaker\n",
    "from sqlalchemy import create_engine, MetaData, func, desc\n",
    "engine = create_engine('sqlite:///buildings.db')\n",
    "Session = sessionmaker()\n",
    "Session.configure(bind=engine)\n",
    "session = scoped_session(Session)\n",
    "meta = MetaData()\n",
    "meta.reflect(bind=engine)\n",
    "Buildings = meta.tables[\"buildings\"]\n",
    "session.query(Buildings.c.Building).limit(1).all()"
   ]
  },
  {
   "cell_type": "markdown",
   "metadata": {},
   "source": [
    "We want to get the first 3 results   \n",
    "`SELECT * FROM buildings LIMIT 3`\n"
   ]
  },
  {
   "cell_type": "code",
   "execution_count": 2,
   "metadata": {
    "collapsed": false
   },
   "outputs": [
    {
     "data": {
      "text/plain": [
       "[(0, u'Burj Khalifa', u'Dubai', u'UAE', 828.0, 163, 2010),\n",
       " (1, u'Shanghai Tower', u'Shanghai', u'China', 632.0, 123, 2015),\n",
       " (2,\n",
       "  u'Abraj Al-Bait Clock Tower',\n",
       "  u'Mecca',\n",
       "  u'Saudi Arabia',\n",
       "  601.0,\n",
       "  120,\n",
       "  2012)]"
      ]
     },
     "execution_count": 2,
     "metadata": {},
     "output_type": "execute_result"
    }
   ],
   "source": [
    "session.query(Buildings).limit(3).all()"
   ]
  },
  {
   "cell_type": "markdown",
   "metadata": {},
   "source": [
    "Get only the City and Building name   \n",
    "\n",
    "    SELECT city, building FROM buildings LIMIT 3"
   ]
  },
  {
   "cell_type": "code",
   "execution_count": 3,
   "metadata": {
    "collapsed": false
   },
   "outputs": [
    {
     "data": {
      "text/plain": [
       "[(u'Dubai', u'Burj Khalifa'),\n",
       " (u'Shanghai', u'Shanghai Tower'),\n",
       " (u'Mecca', u'Abraj Al-Bait Clock Tower')]"
      ]
     },
     "execution_count": 3,
     "metadata": {},
     "output_type": "execute_result"
    }
   ],
   "source": [
    "session.query(Buildings.c.City, Buildings.c.Building).limit(3).all()"
   ]
  },
  {
   "cell_type": "markdown",
   "metadata": {},
   "source": [
    "What are the three oldest buildings in our data  \n",
    "\n",
    "    SELECT city, building, built FROM buildings ORDER BY built LIMIT 3"
   ]
  },
  {
   "cell_type": "code",
   "execution_count": 4,
   "metadata": {
    "collapsed": false
   },
   "outputs": [
    {
     "data": {
      "text/plain": [
       "[(u'New York City', u'Chrysler Building', 1930),\n",
       " (u'New York City', u'Empire State Building', 1931),\n",
       " (u'Chicago', u'John Hancock Center', 1969)]"
      ]
     },
     "execution_count": 4,
     "metadata": {},
     "output_type": "execute_result"
    }
   ],
   "source": [
    "session.query(Buildings.c.City, Buildings.c.Building, Buildings.c.Built).order_by(\"Built\").limit(3).all()"
   ]
  },
  {
   "cell_type": "markdown",
   "metadata": {},
   "source": [
    "What the the three highest buildings?   \n",
    "\n",
    "    SELECT city, building, height FROM buildings ORDER BY height desc LIMIT 3"
   ]
  },
  {
   "cell_type": "code",
   "execution_count": 5,
   "metadata": {
    "collapsed": false
   },
   "outputs": [
    {
     "data": {
      "text/plain": [
       "[(u'Dubai', u'Burj Khalifa', 828.0),\n",
       " (u'Shanghai', u'Shanghai Tower', 632.0),\n",
       " (u'Mecca', u'Abraj Al-Bait Clock Tower', 601.0)]"
      ]
     },
     "execution_count": 5,
     "metadata": {},
     "output_type": "execute_result"
    }
   ],
   "source": [
    "session.query(Buildings.c.City, Buildings.c.Building, Buildings.c.Height).order_by(desc(\"Height\")).limit(3).all()"
   ]
  },
  {
   "cell_type": "markdown",
   "metadata": {},
   "source": [
    "What are the three tallest buildings in Dubai?   \n",
    "\n",
    "    SELECT city, building, height FROM buildings \n",
    "    WHERE city='Dubai' ORDER BY height LIMIT 3;\n",
    "    "
   ]
  },
  {
   "cell_type": "code",
   "execution_count": 6,
   "metadata": {
    "collapsed": false
   },
   "outputs": [
    {
     "data": {
      "text/plain": [
       "[(71, u'Burj Al Arab', u'Dubai', u'UAE', 321.0, 60, 1999),\n",
       " (39, u'Emirates Office Tower', u'Dubai', u'UAE', 355.0, 54, 2000),\n",
       " (88, u'Jumeirah Emirates Towers Hotel', u'Dubai', u'UAE', 309.0, 56, 2000)]"
      ]
     },
     "execution_count": 6,
     "metadata": {},
     "output_type": "execute_result"
    }
   ],
   "source": [
    "session.query(Buildings).filter(Buildings.c.City==\"Dubai\").order_by(\"Built\").limit(3).all()"
   ]
  },
  {
   "cell_type": "markdown",
   "metadata": {},
   "source": [
    "What are the five tallest buildings in Dubai or Chicago?\n",
    "\n",
    "    SELECT * FROM buildings WHERE city='Dubai' \n",
    "    or city=='Chicago' ORDER BY height desc LIMIT 5;"
   ]
  },
  {
   "cell_type": "code",
   "execution_count": 7,
   "metadata": {
    "collapsed": false
   },
   "outputs": [
    {
     "data": {
      "text/plain": [
       "[(46, u'John Hancock Center', u'Chicago', u'United States', 344.0, 100, 1969),\n",
       " (44, u'Aon Center', u'Chicago', u'United States', 346.0, 83, 1973),\n",
       " (12,\n",
       "  u'Willis Tower (formerly the Sears Tower)',\n",
       "  u'Chicago',\n",
       "  u'United States',\n",
       "  442.0,\n",
       "  108,\n",
       "  1974),\n",
       " (93, u'Franklin Center', u'Chicago', u'United States', 307.0, 60, 1989),\n",
       " (103, u'Two Prudential Plaza', u'Chicago', u'United States', 303.0, 64, 1990)]"
      ]
     },
     "execution_count": 7,
     "metadata": {},
     "output_type": "execute_result"
    }
   ],
   "source": [
    "session.query(Buildings).filter((Buildings.c.City==\"Dubai\")|(Buildings.c.City==\"Chicago\")).\\\n",
    "    order_by(\"Built\").limit(5).all()"
   ]
  },
  {
   "cell_type": "markdown",
   "metadata": {},
   "source": [
    "Among the buildings built in 20th century, which has the most floors?\n",
    "\n",
    "    SELECT * FROM buildings WHERE built < 2000 \n",
    "    ORDER BY floors DESC LIMIT 1;"
   ]
  },
  {
   "cell_type": "code",
   "execution_count": 8,
   "metadata": {
    "collapsed": false
   },
   "outputs": [
    {
     "data": {
      "text/plain": [
       "[(12,\n",
       "  u'Willis Tower (formerly the Sears Tower)',\n",
       "  u'Chicago',\n",
       "  u'United States',\n",
       "  442.0,\n",
       "  108,\n",
       "  1974)]"
      ]
     },
     "execution_count": 8,
     "metadata": {},
     "output_type": "execute_result"
    }
   ],
   "source": [
    "session.query(Buildings).filter(Buildings.c.Built<2000).order_by(desc(\"Floors\")).limit(1).all()"
   ]
  },
  {
   "cell_type": "markdown",
   "metadata": {},
   "source": [
    "Among the buildings built in 20th century, which is the tallest?\n",
    "\n",
    "    SELECT * FROM buildings WHERE built < 2000\n",
    "    ORDER BY height DESC LIMIT 1;"
   ]
  },
  {
   "cell_type": "code",
   "execution_count": 9,
   "metadata": {
    "collapsed": false
   },
   "outputs": [
    {
     "data": {
      "text/plain": [
       "[(9, u'Petronas Tower 1', u'Kuala Lumpur', u'Malaysia', 452.0, 88, 1998)]"
      ]
     },
     "execution_count": 9,
     "metadata": {},
     "output_type": "execute_result"
    }
   ],
   "source": [
    "session.query(Buildings).filter(Buildings.c.Built<2000).order_by(desc(\"Height\")).limit(1).all()\n"
   ]
  },
  {
   "cell_type": "markdown",
   "metadata": {},
   "source": [
    "How many different countries and cities do we have in our data?\n",
    "\n",
    "    SELECT COUNT(DISTINCT(country)) FROM buildings;\n",
    "    SELECT COUNT(DISTINCT(city)) FROM buildings;"
   ]
  },
  {
   "cell_type": "code",
   "execution_count": 10,
   "metadata": {
    "collapsed": false
   },
   "outputs": [
    {
     "data": {
      "text/plain": [
       "(17, 45)"
      ]
     },
     "execution_count": 10,
     "metadata": {},
     "output_type": "execute_result"
    }
   ],
   "source": [
    "session.query(func.distinct(Buildings.c.Country)).count(), session.query(func.distinct(Buildings.c.City)).count()"
   ]
  },
  {
   "cell_type": "markdown",
   "metadata": {},
   "source": [
    "Which cities make an apperance in top 20 tallest building list?\n",
    "\n",
    "    SELECT DISTINCT(city) from \n",
    "    (SELECT * FROM buildings ORDER BY height DESC LIMIT 20);\n",
    "    "
   ]
  },
  {
   "cell_type": "code",
   "execution_count": 11,
   "metadata": {
    "collapsed": false
   },
   "outputs": [
    {
     "data": {
      "text/plain": [
       "[(u'Dubai'),\n",
       " (u'Shanghai'),\n",
       " (u'Mecca'),\n",
       " (u'Shenzhen'),\n",
       " (u'New York City'),\n",
       " (u'Guangzhou'),\n",
       " (u'Taipei'),\n",
       " (u'Hong Kong'),\n",
       " (u'Kuala Lumpur'),\n",
       " (u'Nanjing'),\n",
       " (u'Chicago')]"
      ]
     },
     "execution_count": 11,
     "metadata": {},
     "output_type": "execute_result"
    }
   ],
   "source": [
    "top_b = session.query(Buildings).order_by(desc(\"Height\")).limit(20).subquery()\n",
    "session.query(func.distinct(top_b.c.City)).all()"
   ]
  },
  {
   "cell_type": "markdown",
   "metadata": {},
   "source": [
    "How many appearances does each conutry make in a top 100 list?\n",
    "\n",
    "    SELECT country, COUNT(country) AS building_count \n",
    "    FROM \n",
    "    (select * from buildings order by height limit 100) \n",
    "    GROUP BY country \n",
    "    ORDER BY building_count DESC;\n",
    "    \n",
    "    "
   ]
  },
  {
   "cell_type": "code",
   "execution_count": 12,
   "metadata": {
    "collapsed": false
   },
   "outputs": [
    {
     "data": {
      "text/plain": [
       "[(u'China', 44),\n",
       " (u'UAE', 24),\n",
       " (u'United States', 15),\n",
       " (u'Russia', 4),\n",
       " (u'Malaysia', 3),\n",
       " (u'Saudi Arabia', 3),\n",
       " (u'Republic of China', 2),\n",
       " (u'Australia', 1),\n",
       " (u'Kuwait', 1),\n",
       " (u'North Korea', 1),\n",
       " (u'United Kingdom', 1),\n",
       " (u'Vietnam', 1)]"
      ]
     },
     "execution_count": 12,
     "metadata": {},
     "output_type": "execute_result"
    }
   ],
   "source": [
    "top_b = session.query(Buildings).order_by(desc(\"Height\")).limit(100).subquery()\n",
    "session.query(top_b.c.Country, func.count(\"*\").label(\"building_count\")).\\\n",
    "    group_by(top_b.c.Country).order_by(desc(\"building_count\")).all()"
   ]
  },
  {
   "cell_type": "markdown",
   "metadata": {},
   "source": [
    "What is the average floors and average height, per country.\n",
    "   \n",
    "    SELECT country, AVG(floors), AVG(height) from \n",
    "        (SELECT * FROM buildings ORDER BY height DESC LIMIT 100)\n",
    "        GROUP BY country;"
   ]
  },
  {
   "cell_type": "code",
   "execution_count": 13,
   "metadata": {
    "collapsed": false
   },
   "outputs": [
    {
     "data": {
      "text/plain": [
       "[(u'Australia', 80.0, 323.0),\n",
       " (u'China', 78.18181818181819, 370.8863636363636),\n",
       " (u'Kuwait', 80.0, 413.0),\n",
       " (u'Malaysia', 77.0, 404.6666666666667),\n",
       " (u'North Korea', 105.0, 330.0),\n",
       " (u'Republic of China', 93.0, 428.5),\n",
       " (u'Russia', 81.75, 344.0),\n",
       " (u'Saudi Arabia', 88.33333333333333, 431.3333333333333),\n",
       " (u'UAE', 80.58333333333333, 365.5416666666667),\n",
       " (u'United Kingdom', 72.0, 309.0),\n",
       " (u'United States', 80.26666666666667, 363.46666666666664),\n",
       " (u'Vietnam', 72.0, 329.0)]"
      ]
     },
     "execution_count": 13,
     "metadata": {},
     "output_type": "execute_result"
    }
   ],
   "source": [
    "session.query(top_b.c.Country, func.avg(top_b.c.Floors), func.avg(top_b.c.Height)).\\\n",
    "    group_by(top_b.c.Country).all()"
   ]
  },
  {
   "cell_type": "markdown",
   "metadata": {},
   "source": [
    "What is the average floors and average height, per country, sorted by height\n",
    "\n",
    "    SELECT country, AVG(floors) as avg_floor, AVG(height) as avg_height from \n",
    "        (SELECT * FROM buildings ORDER BY height DESC LIMIT 100)\n",
    "        GROUP BY country\n",
    "        ORDER by avg_height DESC;"
   ]
  },
  {
   "cell_type": "code",
   "execution_count": 14,
   "metadata": {
    "collapsed": false
   },
   "outputs": [
    {
     "data": {
      "text/plain": [
       "[(u'Saudi Arabia', 88.33333333333333, 431.3333333333333),\n",
       " (u'Republic of China', 93.0, 428.5),\n",
       " (u'Kuwait', 80.0, 413.0),\n",
       " (u'Malaysia', 77.0, 404.6666666666667),\n",
       " (u'China', 78.18181818181819, 370.8863636363636),\n",
       " (u'UAE', 80.58333333333333, 365.5416666666667),\n",
       " (u'United States', 80.26666666666667, 363.46666666666664),\n",
       " (u'Russia', 81.75, 344.0),\n",
       " (u'North Korea', 105.0, 330.0),\n",
       " (u'Vietnam', 72.0, 329.0),\n",
       " (u'Australia', 80.0, 323.0),\n",
       " (u'United Kingdom', 72.0, 309.0)]"
      ]
     },
     "execution_count": 14,
     "metadata": {},
     "output_type": "execute_result"
    }
   ],
   "source": [
    "session.query(top_b.c.Country, func.avg(top_b.c.Floors), func.avg(top_b.c.Height).label(\"avg_height\")).\\\n",
    "    group_by(top_b.c.Country).order_by(desc(\"avg_height\")).all()"
   ]
  },
  {
   "cell_type": "markdown",
   "metadata": {},
   "source": [
    "What years were the buildings completed?\n",
    "\n",
    "    SELECT built, count(built) FROM buildings GROUP BY built;"
   ]
  },
  {
   "cell_type": "code",
   "execution_count": 15,
   "metadata": {
    "collapsed": false
   },
   "outputs": [
    {
     "data": {
      "text/plain": [
       "[(1930, 1),\n",
       " (1931, 1),\n",
       " (1969, 1),\n",
       " (1973, 1),\n",
       " (1974, 1),\n",
       " (1982, 1),\n",
       " (1983, 1),\n",
       " (1989, 2),\n",
       " (1990, 2),\n",
       " (1992, 2),\n",
       " (1996, 1),\n",
       " (1997, 3),\n",
       " (1998, 3),\n",
       " (1999, 2),\n",
       " (2000, 2),\n",
       " (2001, 1),\n",
       " (2002, 1),\n",
       " (2003, 1),\n",
       " (2004, 1),\n",
       " (2005, 2),\n",
       " (2007, 4),\n",
       " (2008, 3),\n",
       " (2009, 5),\n",
       " (2010, 11),\n",
       " (2011, 9),\n",
       " (2012, 13),\n",
       " (2013, 6),\n",
       " (2014, 8),\n",
       " (2015, 32)]"
      ]
     },
     "execution_count": 15,
     "metadata": {},
     "output_type": "execute_result"
    }
   ],
   "source": [
    "session.query(Buildings.c.Built, func.count(\"*\")).group_by(\"Built\").all()"
   ]
  },
  {
   "cell_type": "markdown",
   "metadata": {},
   "source": [
    "Lets do some joins\n",
    "\n",
    "    SELECT building, continent from BUILDING LEFT JOIN continents \n",
    "    ON buildings.country=continents.country LIMIT 1;"
   ]
  },
  {
   "cell_type": "code",
   "execution_count": 16,
   "metadata": {
    "collapsed": false
   },
   "outputs": [
    {
     "data": {
      "text/plain": [
       "[(u'Burj Khalifa', u'Asia')]"
      ]
     },
     "execution_count": 16,
     "metadata": {},
     "output_type": "execute_result"
    }
   ],
   "source": [
    "Continents = meta.tables[\"continents\"]\n",
    "session.query(Buildings.c.Building, Continents.c.Continent).\\\n",
    "    join(Continents, Continents.c.Country==Buildings.c.Country).limit(1).all()"
   ]
  },
  {
   "cell_type": "markdown",
   "metadata": {
    "collapsed": true
   },
   "source": [
    "What is the average floor count and height on an each continent basis?\n",
    "\n",
    "    SELECT continent, avg(floors), avg(height) FROM buildings LEFT JOIN continents \n",
    "    ON buildings.country=continents.country \n",
    "    GROUP by continent;\n",
    "    "
   ]
  },
  {
   "cell_type": "code",
   "execution_count": 17,
   "metadata": {
    "collapsed": false
   },
   "outputs": [
    {
     "data": {
      "text/plain": [
       "[(u' Asia', 75.57894736842105, 360.63157894736844),\n",
       " (u' Australia', 80.0, 323.0),\n",
       " (u' Europe', 79.16666666666667, 331.1666666666667),\n",
       " (u' South America', 62.0, 300.0),\n",
       " (u'Asia', 77.36363636363636, 361.2857142857143),\n",
       " (u'North America', 78.76470588235294, 356.29411764705884)]"
      ]
     },
     "execution_count": 17,
     "metadata": {},
     "output_type": "execute_result"
    }
   ],
   "source": [
    "session.query(Continents.c.Continent, func.avg(Buildings.c.Floors), func.avg(Buildings.c.Height)).\\\n",
    "    join(Buildings, Continents.c.Country==Buildings.c.Country).group_by(\"Continent\").all()"
   ]
  },
  {
   "cell_type": "markdown",
   "metadata": {
    "collapsed": true
   },
   "source": [
    "Thank you. If you *think in sql*, I hope this tutorial allows you to transform your queries easily to SQLAlchemy equivalents."
   ]
  }
 ],
 "metadata": {
  "kernelspec": {
   "display_name": "Python 2",
   "language": "python",
   "name": "python2"
  },
  "language_info": {
   "codemirror_mode": {
    "name": "ipython",
    "version": 2
   },
   "file_extension": ".py",
   "mimetype": "text/x-python",
   "name": "python",
   "nbconvert_exporter": "python",
   "pygments_lexer": "ipython2",
   "version": "2.7.6"
  }
 },
 "nbformat": 4,
 "nbformat_minor": 0
}
