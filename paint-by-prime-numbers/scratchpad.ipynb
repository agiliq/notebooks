{
 "cells": [
  {
   "cell_type": "markdown",
   "metadata": {},
   "source": [
    "![number theorist](odd-number-theorists.jpg)\n",
    "\n",
    "Prime numbers are ubiquitous. Prime numbers are fun. Prime numbers have many uses.\n",
    "\n",
    "\n",
    "But the most important use of prime numners is in art. If you haven't read [prime numbers which look like giraffe](https://www.agiliq.com/blog/2018/01/prime-number-binary-trex/), you should read it, but today we are doing something more fun. Finding prime numbers which look like famous artists.\n",
    "\n",
    "We will use Salvador Dali, my favorite surrealist,  as the guinea pig.\n",
    "\n",
    "We will use the below striking image of Dali as our source image.\n",
    "![Salvador Dali](salvador-dali.jpg)\n",
    "\n",
    "This is too large (on my machine) to parse as a number, so we will resize it to 24x24 grayscale image. It looks like this\n",
    "\n",
    "![Salvador Dali](salvador.png)\n",
    "\n",
    "Much smaller but still recognizable as Salvador. Lets get to work."
   ]
  },
  {
   "cell_type": "code",
   "execution_count": 1,
   "metadata": {},
   "outputs": [],
   "source": [
    "# We will read the image as a numpy array.\n",
    "# Grayscale images are read as numpy array of spape (X, Y)\n",
    "# Each element is a value between [0, 1]\n",
    "# We map these to integere between [0, 9], so that each pixel represents a digit\n",
    "\n",
    "import numpy as np\n",
    "import matplotlib.image as mpimg\n",
    "img = mpimg.imread('salvador.png')\n",
    "quantized_data = np.reshape(\n",
    "    np.fromiter((round(el*9) for el in img.flatten()), dtype=int), \n",
    "    img.shape\n",
    ")\n"
   ]
  },
  {
   "cell_type": "code",
   "execution_count": 2,
   "metadata": {},
   "outputs": [
    {
     "data": {
      "text/plain": [
       "array([[1, 1, 1, 1, 4, 6, 7, 7, 8, 8, 7, 3, 1, 1, 6, 9, 9, 9, 9],\n",
       "       [1, 1, 1, 2, 4, 5, 7, 8, 8, 8, 8, 8, 5, 1, 5, 9, 9, 9, 9],\n",
       "       [1, 1, 1, 2, 3, 5, 7, 8, 8, 8, 8, 8, 8, 6, 3, 9, 9, 9, 9],\n",
       "       [1, 1, 2, 3, 4, 5, 7, 8, 8, 8, 8, 8, 8, 7, 2, 8, 9, 9, 9],\n",
       "       [1, 1, 2, 4, 4, 4, 4, 4, 7, 8, 8, 8, 7, 7, 3, 6, 9, 9, 9],\n",
       "       [1, 1, 3, 4, 2, 2, 3, 4, 2, 4, 7, 8, 7, 6, 2, 4, 9, 9, 9],\n",
       "       [1, 2, 4, 5, 3, 2, 2, 4, 4, 2, 4, 7, 7, 6, 4, 7, 9, 9, 9],\n",
       "       [2, 2, 4, 5, 7, 5, 2, 5, 3, 4, 6, 4, 2, 2, 7, 9, 9, 9, 9],\n",
       "       [2, 1, 2, 4, 7, 8, 5, 5, 7, 7, 7, 1, 2, 2, 7, 9, 9, 9, 9],\n",
       "       [2, 2, 2, 4, 5, 7, 7, 7, 7, 7, 7, 4, 4, 6, 9, 9, 9, 9, 9],\n",
       "       [2, 2, 2, 4, 4, 7, 8, 7, 6, 7, 7, 4, 5, 9, 9, 9, 9, 9, 9],\n",
       "       [2, 2, 2, 4, 5, 5, 7, 4, 5, 7, 7, 4, 7, 9, 9, 9, 9, 9, 9],\n",
       "       [2, 3, 3, 3, 4, 4, 7, 4, 1, 4, 5, 5, 8, 9, 9, 8, 9, 9, 9],\n",
       "       [1, 2, 4, 5, 5, 2, 2, 5, 2, 1, 2, 6, 9, 9, 8, 8, 9, 9, 9],\n",
       "       [1, 2, 3, 5, 5, 4, 2, 2, 3, 1, 4, 8, 8, 8, 9, 9, 9, 9, 9],\n",
       "       [1, 1, 2, 4, 5, 4, 4, 4, 2, 1, 5, 8, 8, 9, 9, 9, 9, 9, 9],\n",
       "       [1, 1, 1, 2, 5, 6, 4, 3, 2, 4, 9, 9, 9, 9, 9, 9, 9, 9, 9],\n",
       "       [1, 1, 1, 1, 2, 5, 6, 5, 3, 8, 9, 9, 9, 9, 9, 9, 9, 9, 9],\n",
       "       [1, 1, 1, 1, 1, 2, 2, 4, 8, 9, 9, 9, 9, 9, 9, 9, 9, 9, 9],\n",
       "       [1, 1, 1, 4, 7, 8, 8, 9, 9, 9, 9, 9, 9, 9, 9, 9, 9, 9, 9],\n",
       "       [1, 1, 4, 9, 8, 8, 8, 9, 9, 9, 9, 9, 9, 9, 9, 9, 9, 9, 9],\n",
       "       [1, 1, 4, 7, 8, 8, 8, 9, 9, 9, 9, 9, 9, 9, 9, 9, 9, 9, 9],\n",
       "       [1, 1, 1, 4, 8, 8, 8, 9, 8, 8, 8, 9, 9, 9, 9, 9, 9, 9, 9],\n",
       "       [1, 1, 1, 6, 8, 8, 8, 8, 8, 8, 8, 8, 9, 9, 9, 9, 9, 9, 9]])"
      ]
     },
     "execution_count": 2,
     "metadata": {},
     "output_type": "execute_result"
    }
   ],
   "source": [
    "# Lets look at quantized_data\n",
    "quantized_data"
   ]
  },
  {
   "cell_type": "code",
   "execution_count": 3,
   "metadata": {},
   "outputs": [],
   "source": [
    "# We will convert it to integer with each element representing a digit in our number.\n",
    "# I don't like the code below but it is the best I could come up with\n",
    "np.set_printoptions(linewidth=10000)\n",
    "np.set_printoptions(threshold=np.nan)\n",
    "number = int(np.array2string(quantized_data.flatten())[1:-1].replace(\" \", \"\"))"
   ]
  },
  {
   "cell_type": "code",
   "execution_count": 4,
   "metadata": {},
   "outputs": [
    {
     "data": {
      "text/plain": [
       "111146778873116999911124578888851599991112357888888639999112345788888872899911244444788877369991134223424787624999124532244247764799922457525346422799992124785577712279999222457777774469999922244787677459999992224557457747999999233344741455899899912455225212699889991235542231488899999112454442158899999911125643249999999991111256538999999999111112248999999999911147889999999999991149888999999999999114788899999999999911148889888999999991116888888889999999"
      ]
     },
     "execution_count": 4,
     "metadata": {},
     "output_type": "execute_result"
    }
   ],
   "source": [
    "# Lets look at the number \n",
    "number"
   ]
  },
  {
   "cell_type": "code",
   "execution_count": 5,
   "metadata": {},
   "outputs": [
    {
     "data": {
      "text/plain": [
       "111146778873116999911124578888851599991112357888888639999112345788888872899911244444788877369991134223424787624999124532244247764799922457525346422799992124785577712279999222457777774469999922244787677459999992224557457747999999233344741455899899912455225212699889991235542231488899999112454442158899999911125643249999999991111256538999999999111112248999999999911147889999999999991149888999999999999114788899999999999911148889888999999991116888888890000049"
      ]
     },
     "execution_count": 5,
     "metadata": {},
     "output_type": "execute_result"
    }
   ],
   "source": [
    "# We want to find a prime number close to this number\n",
    "# We will use Miller-rabin fast probilistic testing to check primes\n",
    "# And keep iterating until we find one\n",
    "\n",
    "from random import randrange\n",
    "\n",
    "def find_next_prime(number):\n",
    "    \"Given a number, find next prime number\"\n",
    "    number = number | 1  # ensure last bit is 1\n",
    "    while(True):\n",
    "        is_prime = miller_rabin(number)\n",
    "        if is_prime:\n",
    "            break\n",
    "        number += 2\n",
    "    return number\n",
    "\n",
    "def miller_rabin(n, k=10):\n",
    "    if n == 2:\n",
    "        return True\n",
    "    if not n & 1:\n",
    "        return False\n",
    "\n",
    "    def check(a, s, d, n):\n",
    "        x = pow(a, d, n)\n",
    "        if x == 1:\n",
    "            return True\n",
    "        for i in range(s - 1):\n",
    "            if x == n - 1:\n",
    "                return True\n",
    "            x = pow(x, 2, n)\n",
    "        return x == n - 1\n",
    "\n",
    "    s = 0\n",
    "    d = n - 1\n",
    "\n",
    "    while d % 2 == 0:\n",
    "        d >>= 1\n",
    "        s += 1\n",
    "\n",
    "    for i in range(k):\n",
    "        a = randrange(2, n - 1)\n",
    "        if not check(a, s, d, n):\n",
    "            return False\n",
    "    return True\n",
    "\n",
    "prime = find_next_prime(number)\n",
    "prime"
   ]
  },
  {
   "cell_type": "code",
   "execution_count": 6,
   "metadata": {},
   "outputs": [],
   "source": [
    "# Now reconvert the prime to a gigit 2d array\n",
    "# Maintain the same size as originally read image\n",
    "prime_digit_array = np.resize(\n",
    "    np.array(list(str(prime)), dtype=int), \n",
    "    img.shape\n",
    ")"
   ]
  },
  {
   "cell_type": "code",
   "execution_count": 7,
   "metadata": {},
   "outputs": [
    {
     "data": {
      "text/plain": [
       "<matplotlib.axes._subplots.AxesSubplot at 0x10e8cc978>"
      ]
     },
     "execution_count": 7,
     "metadata": {},
     "output_type": "execute_result"
    }
   ],
   "source": [
    "import seaborn as sns\n",
    "ax = sns.heatmap(\n",
    "                prime_digit_array,\n",
    "                linewidth=0.1, square=True, cmap='gray', annot=False)\n",
    "ax"
   ]
  },
  {
   "cell_type": "markdown",
   "metadata": {},
   "source": [
    "Slightly surreal, but still distinctly Salvador Dali.\n",
    "We have found the prime number \n",
    "\n",
    "111146778873116999911124578888851599991112357888888639999112345788888872899911244444788877369991134223424787624999124532244247764799922457525346422799992124785577712279999222457777774469999922244787677459999992224557457747999999233344741455899899912455225212699889991235542231488899999112454442158899999911125643249999999991111256538999999999111112248999999999911147889999999999991149888999999999999114788899999999999911148889888999999991116888888890000049 \n",
    "\n",
    "Which when plotted in 2d looks like our Favorite Artist.\n",
    "\n",
    "\n"
   ]
  },
  {
   "cell_type": "code",
   "execution_count": 8,
   "metadata": {},
   "outputs": [],
   "source": [
    "# If you want to play around with it, \n",
    "# Here is a reusabel class you can use to generate the primes and display them.\n",
    "# It works best with grayscale image with distinctive features.\n",
    "\n",
    "import numpy as np\n",
    "from random import randrange\n",
    "import matplotlib.image as mpimg\n",
    "import seaborn as sns\n",
    "\n",
    "\n",
    "class PaintByPrimeNumbers:\n",
    "    \"\"\"\n",
    "    Takes a grayscale image and finds a prime which looks like the target image\n",
    "    \"\"\"\n",
    "    def __init__(self, image_name):\n",
    "        self.image_name = image_name\n",
    "        img = mpimg.imread(image_name)\n",
    "        quantized_data = np.reshape(np.fromiter((round(el*9) for el in img.flatten()), dtype=int), img.shape)\n",
    "        self.number = self.get_number_from_digitarray(quantized_data)\n",
    "        self._prime = None\n",
    "        self.img = img\n",
    "        \n",
    "    @property\n",
    "    def prime(self):\n",
    "        if self._prime:\n",
    "            return self._prime\n",
    "        else:\n",
    "            self._prime = self.find_next_prime(self.number)\n",
    "            return self._prime\n",
    "        \n",
    "    def display(self, annot=False, cmap=\"gray\"):\n",
    "        ax = sns.heatmap(\n",
    "                np.resize(\n",
    "                    np.array(list(str(self.prime)), dtype=int), \n",
    "                    self.img.shape\n",
    "                ),\n",
    "                linewidth=0.1, square=True, cmap=cmap, annot=annot)\n",
    "        \n",
    "        \n",
    "    def get_number_from_digitarray(cls, digitarray):\n",
    "        np.set_printoptions(linewidth=10000)\n",
    "        np.set_printoptions(threshold=np.nan)\n",
    "        number = int(np.array2string(digitarray.flatten())[1:-1].replace(\" \", \"\"))\n",
    "        return number\n",
    "        \n",
    "        \n",
    "    @classmethod\n",
    "    def find_next_prime(cls, number):\n",
    "        \"Given a number, find next prime number\"\n",
    "        number = number | 1  # ensure last bit is 1\n",
    "        while(True):\n",
    "            is_prime = cls.miller_rabin(number)\n",
    "            if is_prime:\n",
    "                break\n",
    "            number += 2\n",
    "        return number\n",
    "\n",
    "    @classmethod\n",
    "    def miller_rabin(cls, n, k=10):\n",
    "        if n == 2:\n",
    "            return True\n",
    "        if not n & 1:\n",
    "            return False\n",
    "\n",
    "        def check(a, s, d, n):\n",
    "            x = pow(a, d, n)\n",
    "            if x == 1:\n",
    "                return True\n",
    "            for i in range(s - 1):\n",
    "                if x == n - 1:\n",
    "                    return True\n",
    "                x = pow(x, 2, n)\n",
    "            return x == n - 1\n",
    "\n",
    "        s = 0\n",
    "        d = n - 1\n",
    "\n",
    "        while d % 2 == 0:\n",
    "            d >>= 1\n",
    "            s += 1\n",
    "\n",
    "        for i in range(k):\n",
    "            a = randrange(2, n - 1)\n",
    "            if not check(a, s, d, n):\n",
    "                return False\n",
    "        return True\n",
    "        "
   ]
  },
  {
   "cell_type": "code",
   "execution_count": 9,
   "metadata": {},
   "outputs": [
    {
     "name": "stdout",
     "output_type": "stream",
     "text": [
      "Populating the interactive namespace from numpy and matplotlib\n"
     ]
    },
    {
     "name": "stderr",
     "output_type": "stream",
     "text": [
      "/Users/shabda/.virtualenvs/yanny_vs_laurel/lib/python3.6/site-packages/IPython/core/magics/pylab.py:160: UserWarning: pylab import has clobbered these variables: ['number']\n",
      "`%matplotlib` prevents importing * from pylab and numpy\n",
      "  \"\\n`%matplotlib` prevents importing * from pylab and numpy\"\n"
     ]
    }
   ],
   "source": [
    "# And lets use our class\n",
    "%pylab inline\n",
    "pylab.rcParams['figure.figsize'] = (12, 8)\n",
    "salvador_dali = PaintByPrimeNumbers('./salvador.png')"
   ]
  },
  {
   "cell_type": "code",
   "execution_count": 10,
   "metadata": {},
   "outputs": [
    {
     "data": {
      "image/png": "[encoded data removed]",
      "text/plain": [
       "<Figure size 864x576 with 2 Axes>"
      ]
     },
     "metadata": {},
     "output_type": "display_data"
    }
   ],
   "source": [
    "salvador_dali.display()"
   ]
  },
  {
   "cell_type": "code",
   "execution_count": 11,
   "metadata": {},
   "outputs": [
    {
     "data": {
      "image/png": "[encoded data removed]",
      "text/plain": [
       "<Figure size 864x576 with 2 Axes>"
      ]
     },
     "metadata": {},
     "output_type": "display_data"
    }
   ],
   "source": [
    "# And lets see with the numbers inline\n",
    "salvador_dali.display(annot=True)"
   ]
  },
  {
   "cell_type": "code",
   "execution_count": null,
   "metadata": {},
   "outputs": [],
   "source": []
  }
 ],
 "metadata": {
  "kernelspec": {
   "display_name": "Python 3",
   "language": "python",
   "name": "python3"
  },
  "language_info": {
   "codemirror_mode": {
    "name": "ipython",
    "version": 3
   },
   "file_extension": ".py",
   "mimetype": "text/x-python",
   "name": "python",
   "nbconvert_exporter": "python",
   "pygments_lexer": "ipython3",
   "version": "3.6.1"
  }
 },
 "nbformat": 4,
 "nbformat_minor": 2
}
